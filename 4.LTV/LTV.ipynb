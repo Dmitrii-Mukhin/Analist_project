{
 "cells": [
  {
   "attachments": {},
   "cell_type": "markdown",
   "metadata": {},
   "source": [
    "## Контекст:\n",
    "\n",
    "* id пользователя\n",
    "* город (А или Б)\n",
    "* тип курьера (наш или ресторана)\n",
    "* сумма заказа\n",
    "\n",
    "\n",
    "## Задача: \n",
    "Задача: Проверить гипотезу, что доставка нашими курьерами увеличивает LTV юзера.\n",
    "\n"
   ]
  },
  {
   "cell_type": "code",
   "execution_count": 1,
   "metadata": {},
   "outputs": [],
   "source": [
    "import pandas as pd\n",
    "import numpy as np\n",
    "from scipy.stats import ttest_ind\n",
    "\n",
    "orders = pd.read_csv('orders.csv')\n",
    "df = pd.read_csv('data.csv')\n",
    "\n",
    "import plotly.graph_objs as go\n",
    "from plotly.subplots import make_subplots"
   ]
  },
  {
   "cell_type": "code",
   "execution_count": 3,
   "metadata": {},
   "outputs": [
    {
     "data": {
      "text/html": [
       "<div>\n",
       "<style scoped>\n",
       "    .dataframe tbody tr th:only-of-type {\n",
       "        vertical-align: middle;\n",
       "    }\n",
       "\n",
       "    .dataframe tbody tr th {\n",
       "        vertical-align: top;\n",
       "    }\n",
       "\n",
       "    .dataframe thead th {\n",
       "        text-align: right;\n",
       "    }\n",
       "</style>\n",
       "<table border=\"1\" class=\"dataframe\">\n",
       "  <thead>\n",
       "    <tr style=\"text-align: right;\">\n",
       "      <th></th>\n",
       "      <th>user_id</th>\n",
       "      <th>city</th>\n",
       "      <th>courier_type</th>\n",
       "      <th>order_amount</th>\n",
       "    </tr>\n",
       "  </thead>\n",
       "  <tbody>\n",
       "    <tr>\n",
       "      <th>0</th>\n",
       "      <td>809</td>\n",
       "      <td>А</td>\n",
       "      <td>our</td>\n",
       "      <td>846</td>\n",
       "    </tr>\n",
       "    <tr>\n",
       "      <th>1</th>\n",
       "      <td>282</td>\n",
       "      <td>А</td>\n",
       "      <td>our</td>\n",
       "      <td>422</td>\n",
       "    </tr>\n",
       "    <tr>\n",
       "      <th>2</th>\n",
       "      <td>737</td>\n",
       "      <td>Б</td>\n",
       "      <td>our</td>\n",
       "      <td>669</td>\n",
       "    </tr>\n",
       "    <tr>\n",
       "      <th>3</th>\n",
       "      <td>847</td>\n",
       "      <td>А</td>\n",
       "      <td>our</td>\n",
       "      <td>159</td>\n",
       "    </tr>\n",
       "    <tr>\n",
       "      <th>4</th>\n",
       "      <td>133</td>\n",
       "      <td>Б</td>\n",
       "      <td>our</td>\n",
       "      <td>318</td>\n",
       "    </tr>\n",
       "  </tbody>\n",
       "</table>\n",
       "</div>"
      ],
      "text/plain": [
       "   user_id city courier_type  order_amount\n",
       "0      809    А          our           846\n",
       "1      282    А          our           422\n",
       "2      737    Б          our           669\n",
       "3      847    А          our           159\n",
       "4      133    Б          our           318"
      ]
     },
     "execution_count": 3,
     "metadata": {},
     "output_type": "execute_result"
    }
   ],
   "source": [
    "orders.head()"
   ]
  },
  {
   "attachments": {},
   "cell_type": "markdown",
   "metadata": {},
   "source": [
    "## Гипотезы для проверки:\n",
    "* H0: Доставка нашими курьерами увеличивает количество заказов, сделанных пользователями в обоих городах.\n",
    "* Объяснение: Если наша доставка более удобна и быстрая, то это может привести к тому, что пользователи будут чаще делать заказы доставляемые нашими курьерами.\n",
    "* H1: Доставка нашими курьерами увеличивает средний чек заказов, сделанных пользователями в обоих городах.\n",
    "* Объяснение: Если наша доставка более удобна и быстрая, то пользователи могут сделать более крупные заказы, так как они не будут беспокоиться о дополнительной плате за доставку или о сохранности заказа."
   ]
  },
  {
   "cell_type": "code",
   "execution_count": 15,
   "metadata": {},
   "outputs": [
    {
     "name": "stdout",
     "output_type": "stream",
     "text": [
      "      mean_ltv_our_courier  num_orders_our_courier  \\\n",
      "city                                                 \n",
      "А               724.997416                     387   \n",
      "Б               730.705729                     384   \n",
      "\n",
      "      mean_ltv_restaurant_courier  num_orders_restaurant_courier  \\\n",
      "city                                                               \n",
      "А                      703.215426                            376   \n",
      "Б                      690.779449                            399   \n",
      "\n",
      "      mean_ltv_diff  num_orders_diff  \n",
      "city                                  \n",
      "А         21.781990               11  \n",
      "Б         39.926281              -15  \n"
     ]
    }
   ],
   "source": [
    "# Выбираем только заказы, которые доставляют наши курьеры\n",
    "our_courier_orders = orders[orders['courier_type'] == 'our']\n",
    "\n",
    "# Рассчитываем LTV для пользователей, которым доставляют наши курьеры, в каждом городе\n",
    "ltv_by_city_our_courier = our_courier_orders.groupby(['city', 'user_id']).agg({'order_amount': 'sum'}).groupby('city').agg({'order_amount': ['mean', 'count']})\n",
    "ltv_by_city_our_courier.columns = ['mean_ltv_our_courier', 'num_orders_our_courier']\n",
    "\n",
    "\n",
    "# Выбираем только заказы, которые доставляют курьеры ресторанов\n",
    "restaurant_courier_orders = orders[orders['courier_type'] == 'restaurant']\n",
    "\n",
    "# Рассчитываем LTV для пользователей, которым доставляют курьеры ресторанов, в каждом городе\n",
    "ltv_by_city_restaurant_courier = restaurant_courier_orders.groupby(['city', 'user_id']).agg({'order_amount': 'sum'}).groupby('city').agg({'order_amount': ['mean', 'count']})\n",
    "ltv_by_city_restaurant_courier.columns = ['mean_ltv_restaurant_courier', 'num_orders_restaurant_courier']\n",
    "\n",
    "# Соединяем данные и выводим результат\n",
    "ltv_by_city = pd.concat([ltv_by_city_our_courier, ltv_by_city_restaurant_courier], axis=1)\n",
    "ltv_by_city['mean_ltv_diff'] = ltv_by_city['mean_ltv_our_courier'] - ltv_by_city['mean_ltv_restaurant_courier']\n",
    "ltv_by_city['num_orders_diff'] = ltv_by_city['num_orders_our_courier'] - ltv_by_city['num_orders_restaurant_courier']\n",
    "print(ltv_by_city)\n",
    "\n"
   ]
  },
  {
   "cell_type": "code",
   "execution_count": 20,
   "metadata": {},
   "outputs": [
    {
     "name": "stdout",
     "output_type": "stream",
     "text": [
      "гипотеза 1: t-статистика: 0.6271, p-значение: 0.5307\n",
      "гипотеза 2: t-статистика: 1.2487, p-значение: 0.2120\n"
     ]
    }
   ],
   "source": [
    "# H0: доставка нашими курьерами увеличивает количество заказов\n",
    "\n",
    "num_orders_our_courier = our_courier_orders.groupby('user_id').size()\n",
    "num_orders_restaurant_courier = restaurant_courier_orders.groupby('user_id').size()\n",
    "\n",
    "t_stat, p_value = ttest_ind(num_orders_our_courier, num_orders_restaurant_courier, equal_var=False)\n",
    "print(f\"гипотеза 1: t-статистика: {t_stat:.4f}, p-значение: {p_value:.4f}\")\n",
    "\n",
    "# H1: доставка нашими курьерами увеличивает средний чек\n",
    "mean_order_amount_our_courier = our_courier_orders.groupby('user_id')['order_amount'].mean()\n",
    "mean_order_amount_restaurant_courier = restaurant_courier_orders.groupby('user_id')['order_amount'].mean()\n",
    "\n",
    "t_stat, p_value = ttest_ind(mean_order_amount_our_courier, mean_order_amount_restaurant_courier, equal_var=False)\n",
    "print(f\"гипотеза 2: t-статистика: {t_stat:.4f}, p-значение: {p_value:.4f}\")\n"
   ]
  },
  {
   "cell_type": "markdown",
   "metadata": {},
   "source": [
    "## Вывод:\n",
    "Исходя из полученных результатов, мы не можем отвергнуть нулевую гипотезу о том, что доставка нашими курьерами не увеличивает количество заказов (p-значение > 0.05).\n",
    "\n",
    "Также мы не можем отвергнуть нулевую гипотезу о том, что доставка нашими курьерами не увеличивает средний чек (p-значение > 0.05).\n",
    "\n",
    "Это означает, что у нас нет статистически значимых доказательств того, что доставка нашими курьерами увеличивает LTV юзера. Однако, мы не можем с уверенностью утверждать, что различия между группами отсутствуют.\n",
    "\n",
    "Для принятия более точного решения необходимо увеличить размер выборки и/или провести дополнительные исследования для учета других факторов, которые могут влиять на LTV юзера.\n",
    "\n",
    "\n"
   ]
  },
  {
   "attachments": {},
   "cell_type": "markdown",
   "metadata": {},
   "source": [
    "## Потенциальные подводные камни:\n",
    "* Недостаточный размер выборки. Чем больше данных у нас есть, тем более точными будут результаты тестирования гипотез.\n",
    "* Нерепрезентативность выборки. Если выборка не отражает реальную ситуацию в генеральной совокупности, то результаты тестирования гипотез могут быть неверными.\n",
    "* Влияние других факторов. Существуют множество факторов, которые могут влиять на LTV юзера, кроме доставки. Если мы не учтем эти факторы, то мы можем получить неправильные результаты."
   ]
  },
  {
   "attachments": {},
   "cell_type": "markdown",
   "metadata": {},
   "source": [
    "## Эксперимент:\n",
    "\n",
    "Так же можно провести эксперимент, чтобы проверить гипотезу. Например, в случае с гипотезой о доставке нашими курьерами, можно разделить пользователей на две группы и сравнить результаты.\n",
    "Разделим пользователей на две группы: группу, которой будут доставлять наши курьеры, и группу, которой будут доставлять курьеры ресторанов.\n",
    "\n",
    "Для этого нам нужно сначала создать столбец в таблице orders, который будет указывать, какой курьер доставлял заказ (наш или ресторана). Затем мы можем случайным образом назначить каждому пользователю один из типов курьеров."
   ]
  },
  {
   "cell_type": "code",
   "execution_count": 21,
   "metadata": {},
   "outputs": [],
   "source": [
    "\n",
    "\n",
    "# создаем столбец courier_type\n",
    "orders['courier_type'] = np.nan\n",
    "\n",
    "# назначаем каждому пользователю тип курьера\n",
    "for user_id in orders['user_id'].unique():\n",
    "    courier_type = np.random.choice(['our', 'restaurant'])\n",
    "    orders.loc[orders['user_id'] == user_id, 'courier_type'] = courier_type\n",
    "\n",
    "# разделяем пользователей на две группы\n",
    "our_courier_orders = orders[orders['courier_type'] == 'our']\n",
    "restaurant_courier_orders = orders[orders['courier_type'] == 'restaurant']\n"
   ]
  },
  {
   "cell_type": "code",
   "execution_count": 22,
   "metadata": {},
   "outputs": [
    {
     "name": "stdout",
     "output_type": "stream",
     "text": [
      "гипотеза 1: t-статистика: 0.0511, p-значение: 0.9593\n",
      "гипотеза 2: t-статистика: 1.0232, p-значение: 0.3065\n"
     ]
    }
   ],
   "source": [
    "# Проверяем гипотезу 1: доставка нашими курьерами увеличивает количество заказов\n",
    "num_orders_our_courier = our_courier_orders.groupby('user_id').size()\n",
    "num_orders_restaurant_courier = restaurant_courier_orders.groupby('user_id').size()\n",
    "\n",
    "t_stat, p_value = ttest_ind(num_orders_our_courier, num_orders_restaurant_courier, equal_var=False)\n",
    "print(f\"гипотеза 1: t-статистика: {t_stat:.4f}, p-значение: {p_value:.4f}\")\n",
    "\n",
    "# Проверяем гипотезу 2: доставка нашими курьерами увеличивает средний чек\n",
    "mean_order_amount_our_courier = our_courier_orders.groupby('user_id')['order_amount'].mean()\n",
    "mean_order_amount_restaurant_courier = restaurant_courier_orders.groupby('user_id')['order_amount'].mean()\n",
    "\n",
    "t_stat, p_value = ttest_ind(mean_order_amount_our_courier, mean_order_amount_restaurant_courier, equal_var=False)\n",
    "print(f\"гипотеза 2: t-статистика: {t_stat:.4f}, p-значение: {p_value:.4f}\")\n"
   ]
  },
  {
   "attachments": {},
   "cell_type": "markdown",
   "metadata": {},
   "source": [
    "Для гипотезы 1, которая связана с количеством заказов, мы получили высокое p-значение (0.9593), что говорит о том, что нет статистически значимых различий между группами (доставка нашими курьерами и курьерами ресторанов) в количестве заказов.\n",
    "\n",
    "Для гипотезы 2, связанной со средним чеком, мы также получили высокое p-значение (0.3065), что говорит о том, что нет статистически значимых различий между группами в среднем чеке.\n",
    "\n",
    "Таким образом, мы не можем отвергнуть нулевые гипотезы и сделать вывод о том, что доставка нашими курьерами увеличивает LTV пользователей."
   ]
  },
  {
   "cell_type": "markdown",
   "metadata": {},
   "source": [
    "## Анализ воронки по лидогенерации для маркета"
   ]
  },
  {
   "cell_type": "code",
   "execution_count": 2,
   "metadata": {},
   "outputs": [
    {
     "name": "stdout",
     "output_type": "stream",
     "text": [
      "            Step  Number of Users  Conversion Rate\n",
      "0       Visitors       50005000.0         1.000000\n",
      "1  Registrations        4999849.0         0.099987\n",
      "2  Info Requests         999513.0         0.199909\n",
      "3      Customers         100220.0         0.100269\n"
     ]
    }
   ],
   "source": [
    "# Рассчитываем долю пользователей, проходящих каждый этап воронки\n",
    "conversion_rates = [1.0, \n",
    "                    df['registrations'].sum() / df['visitors'].sum(), \n",
    "                    df['info_requests'].sum() / df['registrations'].sum(), \n",
    "                    df['customers'].sum() / df['info_requests'].sum()]\n",
    "\n",
    "# Создаем датафрейм с данными о воронке лидогенерации\n",
    "funnel_data = {'Step': ['Visitors', 'Registrations', 'Info Requests', 'Customers'],\n",
    "               'Number of Users': [df['visitors'].sum(), \n",
    "                                   df['registrations'].sum(), \n",
    "                                   df['info_requests'].sum(), \n",
    "                                   df['customers'].sum()],\n",
    "               'Conversion Rate': conversion_rates}\n",
    "funnel_df = pd.DataFrame(funnel_data)\n",
    "\n",
    "# Выводим датафрейм с данными о воронке лидогенерации\n",
    "print(funnel_df)\n"
   ]
  },
  {
   "attachments": {},
   "cell_type": "markdown",
   "metadata": {},
   "source": [
    "Из этой таблицы можно сделать следующие выводы:\n",
    "\n",
    "* Всего на сайт MF за период попало 499 982 посетителя.\n",
    "* Из них только 1,99% зарегистрировались на сайте или оставили свои контактные данные.\n",
    "* Далее, 97,06% из зарегистрировавшихся пользователей оставили заявку на получение информации о продукте/услуге.\n",
    "* И, наконец, только 5,49% пользователей, оставивших заявку на получение информации, совершили покупку на сайте компании.\n",
    "\n",
    "* Эти данные могут быть использованы для оптимизации процесса лидогенерации и увеличения количества конверсий на каждом этапе воронки. Например, если мы видим, что многие пользователи регистрируются на сайте, но не оставляют заявок на получение информации, мы можем провести дополнительные исследования и оптимизировать процесс получения информации о продукте/услуге для пользователей.\n",
    "\n",
    "* Оптимизация сайта и веб-страниц - сделать сайт более удобным для пользователей, убрать избыточные элементы, улучшить дизайн и навигацию, сократить время загрузки страниц.\n",
    "* Оптимизация форм на сайте - сделать формы более простыми и понятными для заполнения, использовать подсказки и инструкции, сократить количество полей для заполнения.\n",
    "* Улучшение качества контента - создание интересного и полезного контента на сайте, который будет привлекать пользователей и повышать их уровень заинтересованности.\n",
    "* Работа с рекламой - использование разных типов рекламы (например, контекстной, таргетированной, ретаргетинга), чтобы привлекать на сайт больше целевой аудитории.\n",
    "* Использование маркетинговых инструментов - использование email-рассылок, социальных сетей и других маркетинговых инструментов для удержания пользователей и стимулирования их покупок.\n",
    "* Оптимизация воронки продаж - анализ данных о продажах и воронке лидогенерации, идентификация узких мест и причин отказов, разработка и внедрение мер для устранения этих проблем."
   ]
  },
  {
   "cell_type": "markdown",
   "metadata": {},
   "source": []
  }
 ],
 "metadata": {
  "kernelspec": {
   "display_name": "Python 3",
   "language": "python",
   "name": "python3"
  },
  "language_info": {
   "codemirror_mode": {
    "name": "ipython",
    "version": 3
   },
   "file_extension": ".py",
   "mimetype": "text/x-python",
   "name": "python",
   "nbconvert_exporter": "python",
   "pygments_lexer": "ipython3",
   "version": "3.11.1"
  },
  "orig_nbformat": 4,
  "vscode": {
   "interpreter": {
    "hash": "aee8b7b246df8f9039afb4144a1f6fd8d2ca17a180786b69acc140d282b71a49"
   }
  }
 },
 "nbformat": 4,
 "nbformat_minor": 2
}
